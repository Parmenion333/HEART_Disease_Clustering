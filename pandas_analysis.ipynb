{
 "metadata": {
  "language_info": {
   "codemirror_mode": {
    "name": "ipython",
    "version": 3
   },
   "file_extension": ".py",
   "mimetype": "text/x-python",
   "name": "python",
   "nbconvert_exporter": "python",
   "pygments_lexer": "ipython3",
   "version": "3.8.3-final"
  },
  "orig_nbformat": 2,
  "kernelspec": {
   "name": "python3",
   "display_name": "Python 3"
  }
 },
 "nbformat": 4,
 "nbformat_minor": 2,
 "cells": [
  {
   "cell_type": "code",
   "execution_count": null,
   "metadata": {},
   "outputs": [],
   "source": [
    "import pandas as pd\n",
    "import numpy as np\n",
    "import matplotlib.pyplot as plt\n",
    "import seaborn as sns"
   ]
  },
  {
   "cell_type": "code",
   "execution_count": null,
   "metadata": {},
   "outputs": [],
   "source": [
    "data = pd.read_csv(\"heart.csv\")\n",
    "print(data.head(5))"
   ]
  },
  {
   "cell_type": "code",
   "execution_count": null,
   "metadata": {},
   "outputs": [],
   "source": [
    "#pivot_table index = target (pivot_table agg.func default is np.mean())\n",
    "pivot_all_var_target = data.pivot_table(values=[\"fbs\",\"exang\",\"cp\",\"restecg\",\"slope\",\"thal\",\"sex\",\"age\",\"trestbps\",\"chol\",\"thalach\",\"oldpeak\",\"ca\"], index=\"target\")\n",
    "print(pivot_all_var_target)\n"
   ]
  },
  {
   "cell_type": "code",
   "execution_count": null,
   "metadata": {},
   "outputs": [],
   "source": [
    "# correlation matrix of data \n",
    "correlation_matrix = data.corr(method = \"pearson\")\n",
    "print(correlation_matrix)"
   ]
  },
  {
   "cell_type": "code",
   "execution_count": null,
   "metadata": {},
   "outputs": [],
   "source": [
    "# Analysis of sex, age and sickness\n",
    "df_sex_age_target = data[[\"sex\",\"age\",\"target\"]]\n",
    "print(df_sex_age_target.head(5))\n",
    "\n",
    "men_with_sickness = df_sex_age_target[(df_sex_age_target[\"sex\"] == 1) & (df_sex_age_target[\"target\"] == 1)]\n",
    "print(men_with_sickness.head(5))\n",
    "print(men_with_sickness[\"sex\"].count(), \" number of men with sickness\")\n",
    "print(men_with_sickness[\"age\"].mean(), \" mean age of men with sickness\")\n",
    "\n",
    "women_with_sickness = df_sex_age_target[(df_sex_age_target[\"sex\"] == 0) & (df_sex_age_target[\"target\"] == 1)]\n",
    "print(women_with_sickness[\"sex\"].count(), \"number of women with sickness\")\n",
    "print(women_with_sickness[\"age\"].mean(), \" mean age of women with sickness\")"
   ]
  },
  {
   "cell_type": "code",
   "execution_count": null,
   "metadata": {},
   "outputs": [],
   "source": [
    "# Analysis of chol and target\n",
    "print(data.pivot_table(values=[\"chol\",\"target\"], index=\"sex\"))\n",
    "df_chol_target = data[[\"chol\",\"target\"]]\n",
    "mean_chol_level_with_sickness = df_chol_target[(df_chol_target[\"target\"] == 1)]\n",
    "mean_chol_level_without_sickness = df_chol_target[(df_chol_target[\"target\"] == 0)]\n",
    "\n",
    "print(df_chol_target[\"chol\"].mean(),\"chol mean value all patients\")\n",
    "print(mean_chol_level_with_sickness[\"chol\"].mean(),\"chol mean value of target = 1\")\n",
    "print(mean_chol_level_without_sickness[\"chol\"].mean(),\"chol mean value of target = 0\")"
   ]
  }
 ]
}